{
 "cells": [
  {
   "cell_type": "code",
   "execution_count": null,
   "id": "civic-chain",
   "metadata": {},
   "outputs": [],
   "source": [
    "import numpy as np\n",
    "import pandas as pd"
   ]
  },
  {
   "cell_type": "code",
   "execution_count": null,
   "id": "compliant-pipeline",
   "metadata": {},
   "outputs": [],
   "source": [
    "df = context.catalog.load(\"raw_foehn_data\")"
   ]
  }
 ],
 "metadata": {
  "kernelspec": {
   "display_name": "Foehnfireimpact",
   "language": "python",
   "name": "python3"
  },
  "language_info": {
   "codemirror_mode": {
    "name": "ipython",
    "version": 3
   },
   "file_extension": ".py",
   "mimetype": "text/x-python",
   "name": "python",
   "nbconvert_exporter": "python",
   "pygments_lexer": "ipython3",
   "version": "3.8.0"
  }
 },
 "nbformat": 4,
 "nbformat_minor": 5
}
