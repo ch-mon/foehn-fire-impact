{
 "cells": [
  {
   "cell_type": "code",
   "execution_count": null,
   "id": "correct-ground",
   "metadata": {},
   "outputs": [],
   "source": [
    "import pandas as pd\n",
    "import numpy as np\n",
    "import matplotlib.pyplot as plt\n",
    "from dypy.plotting import Mapfigure\n",
    "import kedro.framework.context\n",
    "\n",
    "plt.rcParams.update({'font.size': 20, 'figure.figsize': (16,9)})"
   ]
  },
  {
   "cell_type": "markdown",
   "id": "classical-optics",
   "metadata": {},
   "source": [
    "# Load data"
   ]
  },
  {
   "cell_type": "code",
   "execution_count": null,
   "id": "spectacular-intent",
   "metadata": {},
   "outputs": [],
   "source": [
    "df_fires = context.catalog.load(\"fire_data_cleansed_stations\")\n",
    "df_stations = context.catalog.load(\"foehn_stations\")"
   ]
  },
  {
   "cell_type": "markdown",
   "id": "computational-drilling",
   "metadata": {},
   "source": [
    "# Plot fire and foehn stations"
   ]
  },
  {
   "cell_type": "code",
   "execution_count": null,
   "id": "certified-industry",
   "metadata": {},
   "outputs": [],
   "source": [
    "domain = [5.9, 10.6, 45.65, 48]\n",
    "m = Mapfigure(domain=domain)\n",
    "fig = plt.figure()\n",
    "\n",
    "# Plot fires\n",
    "plt.plot(df_fires[\"longitude\"], df_fires[\"latitude\"], \"x\")\n",
    "\n",
    "# Plot foehn stations\n",
    "plt.plot(df_stations[\"longitude\"], df_stations[\"latitude\"], \"ro\", markersize=8)\n",
    "\n",
    "# Format legend\n",
    "blue_cross = mlines.Line2D([], [], color='blue', marker='x', linestyle='None',\n",
    "                          markersize=10, label='Forest fire')\n",
    "red_oval = mlines.Line2D([], [], markeredgecolor='red',color =\"red\", marker='o', linestyle='None',\n",
    "                          markersize=8, label=\"Foehn oberservation station\")\n",
    "plt.legend(handles=[blue_cross, red_oval], loc=2)\n",
    "\n",
    "# Move labels to non-overlapping position\n",
    "for i in range(len(df_stations)):\n",
    "    if i in {11,0,35,27, 8,6,10,25}:\n",
    "        plt.annotate(df_stations.loc[i, \"name\"],\n",
    "                     (df_stations.loc[i,\"longitude\"], df_stations.loc[i,\"latitude\"]),\n",
    "                      # distance from text to points (x,y)\n",
    "                     textcoords=\"offset points\",\n",
    "                     xytext=(0,-17),\n",
    "                     ha=\"center\",\n",
    "                     color=\"r\",\n",
    "                     backgroundcolor=\"w\",\n",
    "                     fontsize=11\n",
    "                    )\n",
    "    elif i in {22,17,24}:\n",
    "        plt.annotate(df_stations.loc[i, \"name\"],\n",
    "                     (df_stations.loc[i,\"longitude\"], df_stations.loc[i,\"latitude\"]),\n",
    "                      # distance from text to points (x,y)\n",
    "                     textcoords=\"offset points\",\n",
    "                     xytext=(11,-3),\n",
    "                     ha=\"left\",\n",
    "                     color=\"r\",\n",
    "                     backgroundcolor=\"w\",\n",
    "                     fontsize=11\n",
    "                    )\n",
    "    elif i in {7,21,33,32,15}:\n",
    "        plt.annotate(df_stations.loc[i, \"name\"],\n",
    "                     (df_stations.loc[i,\"longitude\"], df_stations.loc[i,\"latitude\"]),\n",
    "                      # distance from text to points (x,y)\n",
    "                     textcoords=\"offset points\",\n",
    "                     xytext=(-8,-3),\n",
    "                     ha=\"right\",\n",
    "                     color=\"r\",\n",
    "                     backgroundcolor=\"w\",\n",
    "                     fontsize=11\n",
    "                    )\n",
    "    else:\n",
    "        plt.annotate(df_stations.loc[i, \"name\"],\n",
    "                     (df_stations.loc[i,\"longitude\"], df_stations.loc[i,\"latitude\"]),\n",
    "                      # distance from text to points (x,y)\n",
    "                     textcoords=\"offset points\",\n",
    "                     xytext=(0,11),\n",
    "                     ha=\"center\",\n",
    "                     color=\"r\",\n",
    "                     backgroundcolor=\"w\",\n",
    "                     fontsize=11\n",
    "                    )\n",
    "    \n",
    "m.drawmap(nbrem=1, nbrep=1)\n",
    "\n",
    "# Save figure\n",
    "fig_name = f'/data/08_reporting/ForestFiresFoehnStation.pdf'\n",
    "plt.savefig(fig_name, bbox_inches='tight', dpi=200)\n",
    "print(f\"Saved figure at: {fig_name}\")"
   ]
  },
  {
   "cell_type": "markdown",
   "id": "criminal-berry",
   "metadata": {},
   "source": [
    "# Plot ellipsoids around each stations"
   ]
  },
  {
   "cell_type": "code",
   "execution_count": null,
   "id": "separated-salmon",
   "metadata": {},
   "outputs": [],
   "source": [
    "from functools import partial\n",
    "import pyproj\n",
    "from shapely.ops import transform\n",
    "from shapely.geometry import Point\n",
    "import matplotlib.lines as mlines\n",
    "\n",
    "def geodesic_point_expansion(lat, lon, km):\n",
    "    \"\"\"\n",
    "    Expand a point to a circle\n",
    "    @param lat, lon: Coordinates\n",
    "    @param km: Size of circle in km\n",
    "    @returns: List of tuples with coords\n",
    "    \"\"\"\n",
    "    # Azimuthal equidistant projection\n",
    "    aeqd_proj = '+proj=aeqd +lat_0={lat} +lon_0={lon} +x_0=0 +y_0=0'\n",
    "    project = partial(\n",
    "        pyproj.transform,\n",
    "        pyproj.Proj(aeqd_proj.format(lat=lat, lon=lon)),\n",
    "        pyproj.Proj('+proj=longlat +datum=WGS84'))\n",
    "    buf = Point(0, 0).buffer(km * 1000)  # distance in metres\n",
    "    return transform(project, buf).exterior.coords[:]"
   ]
  },
  {
   "cell_type": "code",
   "execution_count": null,
   "id": "pacific-lincoln",
   "metadata": {},
   "outputs": [],
   "source": [
    "domain = [5.9, 10.6, 45.65, 48]\n",
    "m = Mapfigure(domain=domain)\n",
    "fig = plt.figure()\n",
    "\n",
    "# Plot fires\n",
    "plt.scatter(df_fires[\"longitude\"], df_fires[\"latitude\"], marker=\"x\")\n",
    "\n",
    "# Plot ellipsoids for each station\n",
    "for i in range(len(df_stations[\"longitude\"])):\n",
    "    ellipse = geodesic_point_expansion(df_stations.loc[i, \"latitude\"], df_stations.loc[i, \"longitude\"], 20)\n",
    "    x= [point[0] for point in ellipse]\n",
    "    y= [point[1] for point in ellipse]\n",
    "    plt.plot(x, y, \"-\", color=\"r\", linewidth=1)\n",
    "\n",
    "# Format legend\n",
    "blue_cross = mlines.Line2D([], [], color='blue', marker='x', linestyle='None',\n",
    "                          markersize=10, label='Forest fire')\n",
    "red_oval = mlines.Line2D([], [], markeredgecolor='red',color =\"white\", marker='o', linestyle='None',\n",
    "                          markersize=15, label=\"Foehn oberservation station radius\")\n",
    "plt.legend(handles=[blue_cross, red_oval], loc=2)\n",
    "    \n",
    "m.drawmap(nbrem=1, nbrep=1)\n",
    "plt.gca().set_aspect(\"equal\")\n",
    "\n",
    "# Save figure\n",
    "fig_name = f'/data/08_reporting/ForestFiresFoehnStationRadius.pdf'\n",
    "plt.savefig(fig_name, bbox_inches='tight', dpi=200)\n",
    "print(f\"Saved figure at: {fig_name}\")"
   ]
  }
 ],
 "metadata": {
  "kernelspec": {
   "display_name": "Foehnfireimpact",
   "language": "python",
   "name": "python3"
  },
  "language_info": {
   "codemirror_mode": {
    "name": "ipython",
    "version": 3
   },
   "file_extension": ".py",
   "mimetype": "text/x-python",
   "name": "python",
   "nbconvert_exporter": "python",
   "pygments_lexer": "ipython3",
   "version": "3.8.0"
  }
 },
 "nbformat": 4,
 "nbformat_minor": 5
}
