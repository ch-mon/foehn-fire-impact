{
 "cells": [
  {
   "cell_type": "code",
   "execution_count": null,
   "id": "civic-chain",
   "metadata": {},
   "outputs": [],
   "source": [
    "import numpy as np\n",
    "import pandas as pd"
   ]
  },
  {
   "cell_type": "code",
   "execution_count": null,
   "id": "compliant-pipeline",
   "metadata": {},
   "outputs": [],
   "source": [
    "df = context.catalog.load(\"foehn_data_cleansed\")"
   ]
  },
  {
   "cell_type": "code",
   "execution_count": null,
   "id": "located-royalty",
   "metadata": {},
   "outputs": [],
   "source": [
    "for col in df.filter(regex=\"foehn\"):\n",
    "    print(df[col].value_counts(dropna=False))"
   ]
  },
  {
   "cell_type": "code",
   "execution_count": null,
   "id": "through-workstation",
   "metadata": {},
   "outputs": [],
   "source": [
    "df.max(axis=0)[:-1].sort_values(ascending=False)[0:50]"
   ]
  },
  {
   "cell_type": "code",
   "execution_count": null,
   "id": "closing-wright",
   "metadata": {},
   "outputs": [],
   "source": [
    "print(len(df.index))"
   ]
  },
  {
   "cell_type": "code",
   "execution_count": null,
   "id": "sacred-friday",
   "metadata": {},
   "outputs": [],
   "source": [
    "features = set(df.columns.tolist()) - set([\"date\"])\n",
    "df.dropna(how=\"all\", axis=0, subset=features)"
   ]
  }
 ],
 "metadata": {
  "kernelspec": {
   "display_name": "Foehnfireimpact",
   "language": "python",
   "name": "python3"
  },
  "language_info": {
   "codemirror_mode": {
    "name": "ipython",
    "version": 3
   },
   "file_extension": ".py",
   "mimetype": "text/x-python",
   "name": "python",
   "nbconvert_exporter": "python",
   "pygments_lexer": "ipython3",
   "version": "3.8.0"
  }
 },
 "nbformat": 4,
 "nbformat_minor": 5
}
