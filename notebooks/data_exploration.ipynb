{
 "cells": [
  {
   "cell_type": "code",
   "execution_count": null,
   "id": "local-indonesian",
   "metadata": {},
   "outputs": [],
   "source": [
    "%load_ext autoreload\n",
    "%autoreload 2"
   ]
  },
  {
   "cell_type": "code",
   "execution_count": null,
   "id": "civic-chain",
   "metadata": {},
   "outputs": [],
   "source": [
    "import numpy as np\n",
    "import pandas as pd\n",
    "import matplotlib\n",
    "import seaborn as sns\n",
    "import matplotlib.pyplot as plt\n",
    "import scipy as sci\n",
    "from utils import *\n",
    "\n",
    "plt.rcParams[\"figure.figsize\"] = (16,9)\n",
    "sns.set(font_scale=1.6)\n",
    "sns.set_style(\"whitegrid\")"
   ]
  },
  {
   "cell_type": "code",
   "execution_count": null,
   "id": "compliant-pipeline",
   "metadata": {
    "scrolled": false
   },
   "outputs": [],
   "source": [
    "df = context.catalog.load(\"fire_data_with_foehn_and_control_variables\")"
   ]
  },
  {
   "cell_type": "code",
   "execution_count": null,
   "id": "incorporated-return",
   "metadata": {},
   "outputs": [],
   "source": [
    "foehn_prevalence_fire_start = (df[\"foehn_minutes_during_12_hours_after_start_of_fire\"] >60).sum()/df[\"foehn_minutes_during_12_hours_after_start_of_fire\"].count()\n",
    "#foehn_prevalence_before_fire_start = (df_final[\"foehn_minutes_24_hour_before\"] >60).sum()/df_final[\"foehn_minutes_24_hour_before\"].count()\n",
    "\n",
    "print(f\"Foehn prevalent after start of fire (%): {foehn_prevalence_fire_start}\")\n",
    "#print(f\"Foehn prevalent before start of fire (%): {foehn_prevalence_before_fire_start}\")"
   ]
  },
  {
   "cell_type": "code",
   "execution_count": null,
   "id": "certain-kitchen",
   "metadata": {},
   "outputs": [],
   "source": [
    "plot_binned_burned_area_after_fire_start(df, hours=6)\n",
    "plot_binned_burned_area_after_fire_start(df, hours=12)"
   ]
  },
  {
   "cell_type": "code",
   "execution_count": null,
   "id": "proud-democracy",
   "metadata": {},
   "outputs": [],
   "source": [
    "plot_binned_burned_area_after_fire_start(df, hours=6, control_var=\"decade\")\n",
    "plot_binned_burned_area_after_fire_start(df, hours=12, control_var=\"decade\")"
   ]
  },
  {
   "cell_type": "code",
   "execution_count": null,
   "id": "norwegian-dream",
   "metadata": {},
   "outputs": [],
   "source": [
    "plot_binned_burned_area_after_fire_start(df, hours=6, control_var=\"fire_regime\")\n",
    "plot_binned_burned_area_after_fire_start(df, hours=12, control_var=\"fire_regime\")"
   ]
  },
  {
   "cell_type": "code",
   "execution_count": null,
   "id": "complimentary-summer",
   "metadata": {},
   "outputs": [],
   "source": [
    "plot_binned_burned_area_after_fire_start(df, hours=6, control_var=\"potential_foehn_species\")\n",
    "plot_binned_burned_area_after_fire_start(df, hours=12, control_var=\"potential_foehn_species\")"
   ]
  },
  {
   "cell_type": "markdown",
   "id": "soviet-think",
   "metadata": {},
   "source": [
    "# Statistical significance tests"
   ]
  },
  {
   "cell_type": "code",
   "execution_count": null,
   "id": "cosmetic-copying",
   "metadata": {},
   "outputs": [],
   "source": [
    "hours=12"
   ]
  },
  {
   "cell_type": "code",
   "execution_count": null,
   "id": "damaged-maximum",
   "metadata": {},
   "outputs": [],
   "source": [
    "bins = [-0.001, 0.001] + [hours*10*i for i in range(1,6+1)]\n",
    "\n",
    "no_foehn_mask = pd.cut(df[f'foehn_minutes_during_{hours}_hours_after_start_of_fire'], bins=bins) == pd.Interval(-0.001, 0.001)\n",
    "no_foehn_fires = df.loc[no_foehn_mask, \"total [ha]\"]\n",
    "\n",
    "for interval in sorted(pd.cut(df[f'foehn_minutes_during_{hours}_hours_after_start_of_fire'], bins=bins).value_counts().index[1:]):\n",
    "    foehn_mask = pd.cut(df[f'foehn_minutes_during_{hours}_hours_after_start_of_fire'], bins=bins) == interval\n",
    "    foehn_fires = df.loc[foehn_mask, \"total [ha]\"]\n",
    "\n",
    "    print(interval, \"\\t\",\n",
    "          np.round(sci.stats.ranksums(no_foehn_fires, foehn_fires).pvalue,6), \"\\t\",\n",
    "          np.round(foehn_fires.median()/no_foehn_fires.median(), 2))"
   ]
  },
  {
   "cell_type": "code",
   "execution_count": null,
   "id": "amended-macedonia",
   "metadata": {},
   "outputs": [],
   "source": [
    "# All fires\n",
    "test_for_certain_aspect(df, hours)"
   ]
  },
  {
   "cell_type": "code",
   "execution_count": null,
   "id": "severe-grain",
   "metadata": {},
   "outputs": [],
   "source": [
    "# For different fire regimes regimes\n",
    "test_for_certain_aspect(df, \n",
    "                        hours=hours, \n",
    "                        control_var=\"fire_regime\", \n",
    "                        categories = [\"Winter anthropogenic\", \"Summer anthropogenic\", \"Summer natural\"] \n",
    "                       )"
   ]
  },
  {
   "cell_type": "code",
   "execution_count": null,
   "id": "urban-investigator",
   "metadata": {},
   "outputs": [],
   "source": [
    "# For different foehn types\n",
    "test_for_certain_aspect(df, \n",
    "                        hours=hours, \n",
    "                        control_var=\"potential_foehn_species\", \n",
    "                        categories = [\"North foehn\", \"South foehn\"] )"
   ]
  },
  {
   "cell_type": "code",
   "execution_count": null,
   "id": "likely-broad",
   "metadata": {},
   "outputs": [],
   "source": [
    "# Test for significant difference between North and South Foehn\n",
    "category =\"North foehn\"\n",
    "filter_category = df[\"potential_foehn_species\"] == category\n",
    "categories = pd.cut(df.loc[filter_category, f'foehn_minutes_during_{hours}_hours_after_start_of_fire'], bins=[-0.001, 0.001, 60*hours])\n",
    "foehn_mask = categories== pd.Interval(0.001, 60*hours)\n",
    "\n",
    "foehn_values_north = df.loc[foehn_mask & filter_category, \"total [ha]\"]\n",
    "\n",
    "category =\"South foehn\"\n",
    "filter_category = df[\"potential_foehn_species\"] == category\n",
    "categories = pd.cut(df.loc[filter_category, f'foehn_minutes_during_{hours}_hours_after_start_of_fire'], bins=[-0.001, 0.001, 60*hours])\n",
    "foehn_mask = categories== pd.Interval(0.001, 60*hours)\n",
    "\n",
    "foehn_values_south = df.loc[foehn_mask & filter_category, \"total [ha]\"]\n",
    "\n",
    "print(category, \"\\t\", np.round(sci.stats.ranksums(foehn_values_north, foehn_values_south).pvalue,6), \"\\t\", np.round(foehn_values_north.median()/foehn_values_south.median(), 3))"
   ]
  },
  {
   "cell_type": "code",
   "execution_count": null,
   "id": "national-consultation",
   "metadata": {},
   "outputs": [],
   "source": [
    "# For different decades\n",
    "test_for_certain_aspect(df, \n",
    "                        hours=hours, \n",
    "                        control_var=\"decade\", \n",
    "                        categories = [\"[1980, 1989]\", \"[1990, 1999]\",\"[2000, 2009]\",\"[2010, 2019]\"] )"
   ]
  },
  {
   "cell_type": "code",
   "execution_count": null,
   "id": "subsequent-amino",
   "metadata": {},
   "outputs": [],
   "source": [
    "# Test for significant difference in foehn between decades\n",
    "category =\"[1990, 1999]\"\n",
    "filter_category = df[\"decade\"] == category\n",
    "categories = pd.cut(df.loc[filter_category, f'foehn_minutes_during_{hours}_hours_after_start_of_fire'], bins=[-0.001, 0.001, 60*hours])\n",
    "foehn_mask = categories== pd.Interval(0.001, 60*hours)\n",
    "\n",
    "foehn_values_1990 = df.loc[foehn_mask& filter_category, \"total [ha]\"]\n",
    "\n",
    "category =\"[2000, 2009]\"\n",
    "filter_category = df[\"decade\"] == category\n",
    "categories = pd.cut(df.loc[filter_category, f'foehn_minutes_during_{hours}_hours_after_start_of_fire'], bins=[-0.001, 0.001, 60*hours])\n",
    "foehn_mask = categories== pd.Interval(0.001, 60*hours)\n",
    "\n",
    "foehn_values_2000 = df.loc[foehn_mask& filter_category, \"total [ha]\"]\n",
    "\n",
    "category =\"[2010, 2019]\"\n",
    "filter_category = df[\"decade\"] == category\n",
    "categories = pd.cut(df.loc[filter_category, f'foehn_minutes_during_{hours}_hours_after_start_of_fire'], bins=[-0.001, 0.001, 60*hours])\n",
    "foehn_mask = categories== pd.Interval(0.001, 60*hours)\n",
    "\n",
    "foehn_values_2010 = df.loc[foehn_mask& filter_category, \"total [ha]\"]\n",
    "\n",
    "print(\"1990\", \"\\t\", np.round(sci.stats.ranksums(foehn_values_1990, foehn_values_2000).pvalue,6), \"\\t\", np.round(foehn_values_1990.median()/foehn_values_2000.median(), 3))\n",
    "print(\"2000\", \"\\t\", np.round(sci.stats.ranksums(foehn_values_2000, foehn_values_2010).pvalue,6), \"\\t\", np.round(foehn_values_2000.median()/foehn_values_2010.median(), 3))\n",
    "print(\"2010\", \"\\t\", np.round(sci.stats.ranksums(foehn_values_1990, foehn_values_2010).pvalue,6), \"\\t\", np.round(foehn_values_1990.median()/foehn_values_2010.median(), 3))"
   ]
  },
  {
   "cell_type": "markdown",
   "id": "polished-tunisia",
   "metadata": {},
   "source": [
    "# Test for wind strength after start"
   ]
  },
  {
   "cell_type": "code",
   "execution_count": null,
   "id": "modified-washington",
   "metadata": {},
   "outputs": [],
   "source": [
    "hours=6\n",
    "foehn_mask = df[f'foehn_minutes_during_{hours}_hours_after_start_of_fire']>0\n",
    "print(foehn_mask.sum())\n",
    "df_fires_with_foehn = df.loc[foehn_mask, :]\n",
    "\n",
    "strength_variable = f\"FF_mean_during_{hours}_hours_after_start_of_fire\"\n",
    "df_fires_with_foehn[strength_variable].hist(alpha=0.5,bins=30)\n",
    "if hours==6:\n",
    "    if \"FFX\" in strength_variable:\n",
    "        bins = [7.5,27,52.1,95]\n",
    "    else:\n",
    "        bins = [2.5,14.9,27.6,52]\n",
    "else:\n",
    "    if \"FFX\" in strength_variable:\n",
    "        bins = [3,21,35,95]\n",
    "    else:\n",
    "        bins = [1,10.7,21,52]"
   ]
  },
  {
   "cell_type": "code",
   "execution_count": null,
   "id": "spectacular-opportunity",
   "metadata": {},
   "outputs": [],
   "source": [
    "plt.figure(figsize=(16,9))\n",
    "g = sns.boxplot(x=pd.cut(df_fires_with_foehn[strength_variable], bins=bins), y = df_fires_with_foehn[\"total [ha]\"], color=\"tab:blue\")\n",
    "#sns.boxplot(x=pd.cut(df.loc[non_foehn_mask, f\"FF_mean_during_{hours}_hours_after_start_of_fire\"], bins=1), y = df.loc[non_foehn_mask, \"total [ha]\"])\n",
    "plt.xlabel(\"Wind speed gusts FFX [km/h]\")\n",
    "plt.ylabel(\"Total burned area [ha]\")\n",
    "g.set_yscale(\"log\")\n",
    "plt.grid(True,which=\"both\",ls=\"--\",c='gray', alpha=0.5)\n",
    "save_figure(f\"BoxplotBurnedAreaOverFFXForFirst{hours}HoursAfterStart\")\n"
   ]
  },
  {
   "cell_type": "code",
   "execution_count": null,
   "id": "honest-sponsorship",
   "metadata": {},
   "outputs": [],
   "source": [
    "weak_foehn_mask = pd.cut(df_fires_with_foehn[strength_variable], bins=bins) == pd.Interval(bins[0], bins[1])\n",
    "weak_foehn_fires = df_fires_with_foehn.loc[weak_foehn_mask, \"total [ha]\"]\n",
    "\n",
    "for interval in sorted(pd.cut(df_fires_with_foehn[strength_variable], bins=bins).value_counts().index[:]):\n",
    "    stronger_foehn_mask = pd.cut(df_fires_with_foehn[strength_variable], bins=bins) == interval\n",
    "    stronger_foehn_fires = df_fires_with_foehn.loc[stronger_foehn_mask,\"total [ha]\"]\n",
    "\n",
    "    print(interval, \"\\t\",\n",
    "          np.round(sci.stats.ranksums(stronger_foehn_fires, weak_foehn_fires).pvalue,6), \"\\t\",\n",
    "          np.round(stronger_foehn_fires.median()/weak_foehn_fires.median(), 2))\n",
    "\n",
    "weak_foehn_mask = pd.cut(df_fires_with_foehn[strength_variable], bins=bins) == pd.Interval(bins[1], bins[2])\n",
    "weak_foehn_fires = df_fires_with_foehn.loc[weak_foehn_mask, \"total [ha]\"]\n",
    "\n",
    "stronger_foehn_mask = pd.cut(df_fires_with_foehn[strength_variable], bins=bins) == pd.Interval(bins[2], bins[3])\n",
    "stronger_foehn_fires = df_fires_with_foehn.loc[stronger_foehn_mask,\"total [ha]\"]\n",
    "\n",
    "print(pd.Interval(bins[2], bins[3]), \"\\t\",\n",
    "      np.round(sci.stats.ranksums(stronger_foehn_fires, weak_foehn_fires).pvalue,6), \"\\t\",\n",
    "      np.round(stronger_foehn_fires.median()/weak_foehn_fires.median(), 2))"
   ]
  },
  {
   "cell_type": "code",
   "execution_count": null,
   "id": "overall-conversion",
   "metadata": {},
   "outputs": [],
   "source": [
    "# Before fire start\n",
    "plot_binned_burned_area_before_fire_start(df, hours=24)\n",
    "plot_binned_burned_area_before_fire_start(df, hours=48)"
   ]
  },
  {
   "cell_type": "code",
   "execution_count": null,
   "id": "valued-commissioner",
   "metadata": {},
   "outputs": [],
   "source": [
    "hours=48\n",
    "foehn_mask = (df_final[f'foehn_minutes_{hours}_hour_before']>60) & (df_final[\"potential_foehn_species\"] == \"North foehn\")\n",
    "df_fires_with_foehn = df_final.loc[foehn_mask, :]\n",
    "\n",
    "# -------------------------------------------------------------------------------- NOTEBOOK-CELL: CODE\n",
    "strength_variable = f\"TT_mean_{hours}_hour_before\"\n",
    "df_fires_with_foehn[strength_variable].hist(bins=30)\n",
    "\n",
    "# -------------------------------------------------------------------------------- NOTEBOOK-CELL: CODE\n",
    "bins=[-60,-40,-20,0]\n",
    "bins=[0,3,6,9,12,15]\n",
    "\n",
    "df_binned = df_fires_with_foehn.groupby(pd.cut(df_fires_with_foehn[strength_variable], bins=bins)).count()\n",
    "#sns.barplot(x=df_binned.index, y=df_binned[\"total [ha]\"], color=\"tab:blue\")\n",
    "\n",
    "foehn_conditions_in_interval = np.zeros(len(bins)-1)\n",
    "foehn_stations = [colname[0:3] for colname in df_foehn.filter(regex=\"foehn\").columns.tolist()]\n",
    "strength_abbr = strength_variable[0:2]\n",
    "\n",
    "for station in north_foehn_stations:\n",
    "    target_variable_where_foehn = df_foehn[f\"{station}_{strength_abbr}\"].where(df_foehn[f\"{station}_foehn\"]==1.0).rolling(6*hours, min_periods=1).mean()\n",
    "    target_variable_where_no_foehn = df_foehn[f\"{station}_{strength_abbr}\"].where((df_foehn[f\"{station}_foehn\"]==0.0)).rolling(6*hours, min_periods=1).mean()\n",
    "    strength_difference = target_variable_where_foehn - target_variable_where_no_foehn\n",
    "\n",
    "    foehn_conditions_in_interval += np.array([((df_binned.index[i].left < strength_difference) &\n",
    "                                             (strength_difference <df_binned.index[i].right)).sum() for i in range(len(df_binned.index))])\n",
    "    print(foehn_conditions_in_interval)\n",
    "\n",
    "\n",
    "plt.figure(figsize=(16,9))\n",
    "sns.barplot(x=df_binned.index, y=(df_binned['total [ha]']/foehn_conditions_in_interval)/min((df_binned['total [ha]']/foehn_conditions_in_interval)), color=\"tab:blue\")\n",
    "plt.ylabel(\"Normalized count of fires\")\n",
    "plt.xlabel(\"Foehn temperature increase [K]\")\n",
    "\n",
    "fig_path = f'/home/chmony/Documents/Results/FoehnFireLink/NormalizedFireCountOverTemperatureForThe{hours}HoursBeforeStart.pdf'\n",
    "plt.savefig(fig_path, bbox_inches='tight', dpi=200)\n",
    "print(f\"Saved figure at: {fig_path}\")\n",
    "# xticks, xlabels = plt.xticks()\n",
    "# xlabels = [label.get_text() for label in xlabels]\n",
    "# xlabels[0] = \"[0.0\" + xlabels[0][6:]\n",
    "# plt.xticks(xticks, xlabels)\n",
    "# save_figure(f\"NormalizedFireCountOverFoehnMinutesForThe{hours}HoursBeforeStart\")"
   ]
  }
 ],
 "metadata": {
  "kernelspec": {
   "display_name": "Foehnfireimpact",
   "language": "python",
   "name": "python3"
  },
  "language_info": {
   "codemirror_mode": {
    "name": "ipython",
    "version": 3
   },
   "file_extension": ".py",
   "mimetype": "text/x-python",
   "name": "python",
   "nbconvert_exporter": "python",
   "pygments_lexer": "ipython3",
   "version": "3.8.0"
  }
 },
 "nbformat": 4,
 "nbformat_minor": 5
}
